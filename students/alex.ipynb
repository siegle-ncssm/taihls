{
  "cells": [
    {
      "cell_type": "code",
      "source": [
        "import random\n",
        "\n",
        "def roll_die():\n",
        "    \"\"\"\n",
        "    Generates a random integer between 1 and 6, inclusive.\n",
        "\n",
        "    The random.randint(1, 6) function uses a high-quality pseudorandom\n",
        "    number generator (PRNG) which ensures that each number (1, 2, 3, 4, 5, 6)\n",
        "    has an equal chance (a probability of 1/6) of being chosen.\n",
        "\n",
        "    Returns:\n",
        "        int: The randomly selected number.\n",
        "    \"\"\"\n",
        "    # random.randint(a, b) returns a random integer N such that a <= N <= b.\n",
        "    return random.randint(1, 6)\n",
        "\n",
        "# --- Example Usage ---\n",
        "print(\"--- Single Die Rolls ---\")\n",
        "print(f\"Roll 1: {roll_die()}\")\n",
        "print(f\"Roll 2: {roll_die()}\")\n",
        "print(f\"Roll 3: {roll_die()}\")\n",
        "\n",
        "# --- Distribution Check (Optional: Run many trials to confirm equal probability) ---\n",
        "num_trials = 100000\n",
        "results = {i: 0 for i in range(1, 7)} # Initialize counts for 1 through 6\n",
        "\n",
        "for _ in range(num_trials):\n",
        "    result = roll_die()\n",
        "    results[result] += 1\n",
        "\n",
        "print(\"\\n--- Distribution Check (Simulating 100,000 Rolls) ---\")\n",
        "# Expected probability for each number is 1/6, or approximately 16.67%\n",
        "expected_percentage = 100 / 6\n",
        "\n",
        "for number, count in results.items():\n",
        "    percentage = (count / num_trials) * 100\n",
        "    print(f\"Number {number}: Count = {count} | Percentage = {percentage:.2f}% (Expected: {expected_percentage:.2f}%)\")\n",
        "\n",
        "print(\"\\n(Running many trials shows the results are close to the expected equal probability.)\")"
      ],
      "outputs": [],
      "execution_count": null,
      "metadata": {
        "id": "tkPhq2fYOaez"
      }
    }
  ],
  "metadata": {
    "colab": {
      "provenance": []
    },
    "kernelspec": {
      "display_name": "Python 3",
      "name": "python3"
    }
  },
  "nbformat": 4,
  "nbformat_minor": 0
}